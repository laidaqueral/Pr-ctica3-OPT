{
 "cells": [
  {
   "cell_type": "code",
   "execution_count": 1,
   "id": "94c97e5a",
   "metadata": {},
   "outputs": [],
   "source": [
    "import numpy as np\n",
    "import matplotlib.pyplot as plt\n",
    "from matplotlib import colors"
   ]
  },
  {
   "cell_type": "markdown",
   "id": "78ecd3eb",
   "metadata": {},
   "source": [
    "LLEGIR DADES SIMULADES"
   ]
  },
  {
   "cell_type": "code",
   "execution_count": 6,
   "id": "f3d1bda3",
   "metadata": {},
   "outputs": [],
   "source": [
    "def read_img(path, shape):\n",
    "    with open(path, 'rb') as f:\n",
    "        data = np.fromfile(f, dtype=np.int16)\n",
    "    return data.reshape(shape)"
   ]
  },
  {
   "cell_type": "markdown",
   "id": "bb9829ea",
   "metadata": {},
   "source": [
    "INICIALITZACIÓ DE LES CAPES"
   ]
  },
  {
   "cell_type": "code",
   "execution_count": 7,
   "id": "69e19b28",
   "metadata": {},
   "outputs": [],
   "source": [
    "shape = (50, 50)\n",
    "\n",
    "# Carreguem les capes\n",
    "vegetation = read_img('vegetation.img', shape)\n",
    "humidity = read_img('humidity.img', shape)\n",
    "\n",
    "# Estat de les cel·les: 0 = pendent, 1 = cremant, 2 = cremat\n",
    "state = np.zeros(shape, dtype=int)\n",
    "\n",
    "# Inicialitzem foc en una cantonada\n",
    "state[0, 0] = 1\n",
    "\n",
    "# Capes auxiliars per controlar humitat i vegetació cremant\n",
    "humidity_timer = np.zeros_like(humidity)\n",
    "vegetation_timer = np.zeros_like(vegetation)\n"
   ]
  },
  {
   "cell_type": "markdown",
   "id": "69bd1901",
   "metadata": {},
   "source": [
    "FUNCIÓ D'ACTUALITZACIÓ DEL FOC"
   ]
  },
  {
   "cell_type": "code",
   "execution_count": 8,
   "id": "0ea042ab",
   "metadata": {},
   "outputs": [],
   "source": [
    "def update_fire(state, humidity, vegetation, humidity_timer, vegetation_timer):\n",
    "    new_state = state.copy()\n",
    "    for i in range(state.shape[0]):\n",
    "        for j in range(state.shape[1]):\n",
    "            if state[i, j] == 1:  # Cel·la cremant\n",
    "                vegetation_timer[i, j] += 1\n",
    "                if vegetation_timer[i, j] >= vegetation[i, j]:\n",
    "                    new_state[i, j] = 2  # Crema completada\n",
    "            elif state[i, j] == 0:  # Cel·la pendent\n",
    "                # Mirem els 8 veïns\n",
    "                neighbors = [(i-1,j-1), (i-1,j), (i-1,j+1),\n",
    "                             (i,j-1),           (i,j+1),\n",
    "                             (i+1,j-1), (i+1,j), (i+1,j+1)]\n",
    "                for ni, nj in neighbors:\n",
    "                    if 0 <= ni < state.shape[0] and 0 <= nj < state.shape[1]:\n",
    "                        if state[ni, nj] == 1:\n",
    "                            humidity_timer[i, j] += 1\n",
    "                            if humidity_timer[i, j] >= humidity[i, j]:\n",
    "                                new_state[i, j] = 1  # Comença a cremar\n",
    "                            break\n",
    "    return new_state, humidity_timer, vegetation_timer"
   ]
  },
  {
   "cell_type": "markdown",
   "id": "12794ca1",
   "metadata": {},
   "source": [
    "SIMULAR I VISUALITZAR"
   ]
  },
  {
   "cell_type": "code",
   "execution_count": 9,
   "id": "17fbfd8b",
   "metadata": {},
   "outputs": [
    {
     "data": {
      "image/png": "[encoded data removed]",
      "text/plain": [
       "<Figure size 600x600 with 2 Axes>"
      ]
     },
     "metadata": {},
     "output_type": "display_data"
    },
    {
     "name": "stdout",
     "output_type": "stream",
     "text": [
      "Incendi apagat en 0 hores!\n"
     ]
    }
   ],
   "source": [
    "def plot_state(state, step):\n",
    "    cmap = colors.ListedColormap(['green', 'red', 'black'])\n",
    "    bounds = [-0.5, 0.5, 1.5, 2.5]\n",
    "    norm = colors.BoundaryNorm(bounds, cmap.N)\n",
    "\n",
    "    plt.figure(figsize=(6,6))\n",
    "    plt.imshow(state, cmap=cmap, norm=norm)\n",
    "    plt.title(f'Temps {step}h')\n",
    "    plt.colorbar(ticks=[0,1,2], label='0: Pendent, 1: Cremant, 2: Cremat')\n",
    "    plt.axis('off')\n",
    "    plt.show()\n",
    "\n",
    "max_steps = 50\n",
    "for step in range(max_steps):\n",
    "    plot_state(state, step)\n",
    "    state, humidity_timer, vegetation_timer = update_fire(state, humidity, vegetation, humidity_timer, vegetation_timer)\n",
    "    if np.all((state == 0) | (state == 2)):\n",
    "        print(f\"Incendi apagat en {step} hores!\")\n",
    "        break\n"
   ]
  }
 ],
 "metadata": {
  "kernelspec": {
   "display_name": "Python 3",
   "language": "python",
   "name": "python3"
  },
  "language_info": {
   "codemirror_mode": {
    "name": "ipython",
    "version": 3
   },
   "file_extension": ".py",
   "mimetype": "text/x-python",
   "name": "python",
   "nbconvert_exporter": "python",
   "pygments_lexer": "ipython3",
   "version": "3.9.1"
  }
 },
 "nbformat": 4,
 "nbformat_minor": 5
}
